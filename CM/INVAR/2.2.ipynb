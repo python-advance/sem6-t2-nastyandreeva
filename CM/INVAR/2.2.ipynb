{
 "cells": [
  {
   "cell_type": "code",
   "execution_count": 9,
   "metadata": {},
   "outputs": [
    {
     "name": "stdout",
     "output_type": "stream",
     "text": [
      "Введите максимальное число: \t8\n",
      "[0, 1, 1, 2, 3, 5, 8, 13]\n"
     ]
    }
   ],
   "source": [
    "value = int(input(\"Введите максимальное число: \\t\" ))\n",
    "\n",
    "def fib(value):\n",
    "  lst = [0, 1, ]\n",
    "  it = iter(list(range(2, value)))\n",
    "  while True:\n",
    "    try:\n",
    "      elem = next(it)\n",
    "    except StopIteration:\n",
    "      break\n",
    "    n = lst[elem - 1] + lst[elem - 2]\n",
    "    lst.append(n)\n",
    "  return lst\n",
    "\n",
    "res = fib(value)\n",
    "print(res)\n",
    "\n",
    "if __name__ == \"__main__\":\n",
    "    assert(fib(5)) == [0, 1, 1, 2, 3]\n",
    "    assert(fib(3)) == [0, 1, 1]\n",
    "    assert(fib(10)) == [0, 1, 1, 2, 3, 5, 8, 13, 21, 34]"
   ]
  },
  {
   "cell_type": "code",
   "execution_count": null,
   "metadata": {},
   "outputs": [],
   "source": []
  }
 ],
 "metadata": {
  "kernelspec": {
   "display_name": "Python 3",
   "language": "python",
   "name": "python3"
  },
  "language_info": {
   "codemirror_mode": {
    "name": "ipython",
    "version": 3
   },
   "file_extension": ".py",
   "mimetype": "text/x-python",
   "name": "python",
   "nbconvert_exporter": "python",
   "pygments_lexer": "ipython3",
   "version": "3.7.0"
  }
 },
 "nbformat": 4,
 "nbformat_minor": 2
}
